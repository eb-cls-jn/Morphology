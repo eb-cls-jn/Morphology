{
 "cells": [
  {
   "cell_type": "markdown",
   "metadata": {},
   "source": [
    "# Morphology analysis with neurom\n",
    "\n",
    "In this notebook you'll learn\n",
    "\n",
    "1. how to visualise a morphology and its components\n",
    "2. extract morphometrics from the morphology and visualise their distributions.\n",
    "\n",
    "Please note the technical details above each Cell. \n",
    "\n",
    "You can find the full documentation of neurom on http://neurom.readthedocs.io/en/latest/index.html ."
   ]
  },
  {
   "cell_type": "markdown",
   "metadata": {},
   "source": [
    "## Install packages"
   ]
  },
  {
   "cell_type": "code",
   "execution_count": null,
   "metadata": {},
   "outputs": [],
   "source": [
    "!pip install -q --upgrade git+https://github.com/ebrains-cls-interactive/fetch-selected-models.git@dev#egg=fetch_selected_models\n",
    "!pip install -q dictor"
   ]
  },
  {
   "cell_type": "markdown",
   "metadata": {},
   "source": [
    "## Fetch selected morphologies "
   ]
  },
  {
   "cell_type": "code",
   "execution_count": null,
   "metadata": {},
   "outputs": [],
   "source": [
    "from fetch_selected_models import fetcher\n",
    "models = fetcher.get_model_dict('morphology', 'morphologyAnalysis')"
   ]
  },
  {
   "cell_type": "code",
   "execution_count": null,
   "metadata": {},
   "outputs": [],
   "source": [
    "morph_selected = fetcher.display_dropdown(models)"
   ]
  },
  {
   "cell_type": "markdown",
   "metadata": {},
   "source": [
    "## Download morphology\n",
    "\n",
    "This cell imports required python packages and defines the morphology you have selected."
   ]
  },
  {
   "cell_type": "code",
   "execution_count": null,
   "metadata": {},
   "outputs": [],
   "source": [
    "%matplotlib inline\n",
    "from copy import deepcopy\n",
    "import warnings; warnings.simplefilter('ignore')\n",
    "\n",
    "from dictor import dictor\n",
    "\n",
    "from IPython.display import display, HTML\n",
    "import urllib, zipfile, os, requests\n",
    "\n",
    "try:\n",
    "    import neurom\n",
    "except ImportError:\n",
    "    !pip install neurom\n",
    "    import neurom\n",
    "from neurom import viewer, stats\n",
    "\n",
    "cell_name = morph_selected.value\n",
    "morph_url = 'https://validation-v2.brainsimulation.eu/models/?name={}'.format(cell_name)\n",
    "zip_name = '{}.zip'.format(cell_name)\n",
    "\n",
    "\n",
    "# download\n",
    "headers = {'Authorization': 'Bearer ' + clb_oauth.get_token()}\n",
    "result = requests.get(morph_url, headers=headers).json()\n",
    "morph_zip_file = dictor(result, '0.instances.0.source')\n",
    "\n",
    "urllib.request.urlretrieve(morph_zip_file, zip_name)\n",
    "\n",
    "# unzip\n",
    "zip_ref = zipfile.ZipFile(zip_name, 'r')\n",
    "zip_ref.extractall()\n",
    "zip_ref.close()\n",
    "\n",
    "# morphology file name\n",
    "morph_dir = os.path.join(os.path.splitext(zip_name)[0], 'morphology')\n",
    "morph_file = os.path.join(morph_dir, os.listdir(morph_dir)[0])"
   ]
  },
  {
   "cell_type": "markdown",
   "metadata": {},
   "source": [
    "##  Load morphology with neurom and visualize\n",
    "\n",
    "The 'neurom' module is used to load the neuron and to draw it."
   ]
  },
  {
   "cell_type": "code",
   "execution_count": null,
   "metadata": {},
   "outputs": [],
   "source": [
    "neuron = neurom.load_neuron(morph_file)\n",
    "# 2D\n",
    "fig, ax = viewer.draw(neuron)"
   ]
  },
  {
   "cell_type": "markdown",
   "metadata": {},
   "source": [
    "## Analyse a morphology\n",
    "\n",
    "Here are quick links to the analysis of the morphology components:\n",
    "\n",
    "- [Soma](#soma)\n",
    "- [Basal dendrites](#basal_dendrites)\n",
    "- [Axon](#axon)\n",
    "- [Apical dendrite](#apical_dendrite)\n",
    "\n",
    "The following cells define some functions required to perform the component analysis."
   ]
  },
  {
   "cell_type": "code",
   "execution_count": null,
   "metadata": {},
   "outputs": [],
   "source": [
    "PARAM_MAP = {                                                                   \n",
    "    'basal_dendrite': {'neurite_type': neurom.NeuriteType.basal_dendrite},             \n",
    "    'apical_dendrite': {'neurite_type': neurom.NeuriteType.apical_dendrite},           \n",
    "    'axon': {'neurite_type': neurom.NeuriteType.axon},                                 \n",
    "    'soma': {}                                                                \n",
    "}"
   ]
  },
  {
   "cell_type": "code",
   "execution_count": null,
   "metadata": {},
   "outputs": [],
   "source": [
    "# functions to extract features and display the results\n",
    "def extract_feature(nrn, feature, component):\n",
    "    return neurom.get(feature, nrn, **PARAM_MAP[component])\n",
    "\n",
    "\n",
    "def insert_table_style():\n",
    "    table_style = ('    <style>'\n",
    "        'table {'\n",
    "        '   font-family: arial, sans-serif;'\n",
    "        '   border-collapse: collapse;'\n",
    "        'width: 100%;'\n",
    "        '}'\n",
    "        ''\n",
    "        'td, th {'\n",
    "        '    border: 1px solid #dddddd;'\n",
    "        '    text-align: left;'\n",
    "        '    padding: 8px;'\n",
    "        '}'\n",
    "        ''\n",
    "        'tr:nth-child(even) {'\n",
    "        '    background-color: #dddddd;'\n",
    "        '}'\n",
    "        '</style>'\n",
    "    )\n",
    "    display(HTML(table_style))\n",
    "\n",
    "    \n",
    "def feature_table_header():\n",
    "    html_table_header = ['<tr>']\n",
    "    for col_header in ['Component', 'Feature', 'Mean', 'Std', 'Min', 'Max']:\n",
    "        html_table_header.append('<th>{}</th>'.format(col_header))\n",
    "    html_table_header.append('</tr>')\n",
    "    return ''.join(html_table_header)\n",
    "\n",
    "\n",
    "def feature_row(component, feature, stats_dict):\n",
    "    html_row = ['<tr>']\n",
    "    for row_header in [component, feature]:\n",
    "        html_row.append('<td>{}</td>'.format(row_header))\n",
    "    for k in ['mean', 'std', 'min', 'max']:\n",
    "        html_row.append('<td>{:8.3f}</td>'.format(stats_dict[k]))\n",
    "    html_row.append('</tr>')\n",
    "    return ''.join(html_row)\n",
    "\n",
    "\n",
    "def display_feature_table(nrn, component, features):\n",
    "    insert_table_style()\n",
    "    \n",
    "    html_table = ['<table width=100%>']\n",
    "    html_table.append(feature_table_header())\n",
    "    \n",
    "    for feature in features:\n",
    "        summary = stats.scalar_stats(extract_feature(nrn, feature, component))\n",
    "        html_table.append(feature_row(component, feature, summary))\n",
    "    \n",
    "    html_table.append('</table>')    \n",
    "    table =  ''.join(html_table)\n",
    "    display(HTML(table))\n",
    "\n",
    "\n",
    "def pretty_name(name):\n",
    "    return name.replace('_',' ').capitalize()\n",
    "\n",
    "\n",
    "def histogram(neuron, feature, component, nb_bins=10):\n",
    "    import matplotlib.pyplot as plt\n",
    "    \n",
    "    data = extract_feature(neuron, feature, component)\n",
    "    \n",
    "    plt.hist(data, bins = 20, normed=True)\n",
    "    plt.title('{}: {}'.format(pretty_name(component), pretty_name(feature)))"
   ]
  },
  {
   "cell_type": "code",
   "execution_count": null,
   "metadata": {},
   "outputs": [],
   "source": [
    "# helper function for visualization\n",
    "def visualize_neurites(neuron, neurite_type):\n",
    "    def filtered_neurites(n):\n",
    "        filter_ = neurom.core.types.tree_type_checker(PARAM_MAP[neurite_type]['neurite_type'])\n",
    "        return [c for c in neurom.iter_neurites(n, filt=filter_)]\n",
    "\n",
    "    nrn = deepcopy(neuron)\n",
    "    nrn.neurites = filtered_neurites(neuron)\n",
    "    return viewer.draw(nrn)"
   ]
  },
  {
   "cell_type": "markdown",
   "metadata": {},
   "source": [
    "### <a name=soma></a>Soma\n",
    "\n",
    "You can find a list of all available features on http://neurom.readthedocs.io/en/latest/_neurom_build/neurom.get.html#neurom.get .\n",
    "\n",
    "The next cells will give some details about the soma."
   ]
  },
  {
   "cell_type": "code",
   "execution_count": null,
   "metadata": {},
   "outputs": [],
   "source": [
    "# component visualization\n",
    "fig, ax = viewer.draw(neuron.soma)\n",
    "_ = ax.set_title(neuron.name)"
   ]
  },
  {
   "cell_type": "code",
   "execution_count": null,
   "metadata": {},
   "outputs": [],
   "source": [
    "# component analysis\n",
    "soma_features = ['soma_radii', 'soma_surface_areas']\n",
    "\n",
    "display_feature_table(neuron, 'soma', soma_features)"
   ]
  },
  {
   "cell_type": "markdown",
   "metadata": {},
   "source": [
    "### <a name=basal_dendrites></a>Basal dendrites\n",
    "\n",
    "You can find a list of all available features on http://neurom.readthedocs.io/en/latest/_neurom_build/neurom.get.html#neurom.get .\n",
    "\n",
    "The next cells will give some details about the basal dendrites (if present)."
   ]
  },
  {
   "cell_type": "code",
   "execution_count": null,
   "metadata": {},
   "outputs": [],
   "source": [
    "def has_basal_dendrite(neuron):\n",
    "    return extract_feature(neuron, 'number_of_neurites', 'basal_dendrite')[0] > 0"
   ]
  },
  {
   "cell_type": "code",
   "execution_count": null,
   "metadata": {},
   "outputs": [],
   "source": [
    "# component visualization\n",
    "fig, ax = visualize_neurites(neuron, 'basal_dendrite')"
   ]
  },
  {
   "cell_type": "code",
   "execution_count": null,
   "metadata": {},
   "outputs": [],
   "source": [
    "# component analysis\n",
    "if has_basal_dendrite(neuron):\n",
    "    neurite_features = ['local_bifurcation_angles', 'neurite_lengths', 'neurite_volume_density', 'neurite_volumes',\n",
    "                        'number_of_bifurcations', 'number_of_forking_points', 'number_of_neurites', 'number_of_sections',\n",
    "                        'number_of_sections_per_neurite', 'number_of_segments', 'number_of_terminations', 'partition',\n",
    "                        'partition_asymmetry', 'principal_direction_extents', 'remote_bifurcation_angles', 'section_areas',\n",
    "                        'section_bif_branch_orders', 'section_bif_lengths', 'section_branch_orders', 'section_lengths',\n",
    "                        'section_path_distances', 'section_radial_distances', 'section_term_branch_orders', \n",
    "                        'section_term_lengths', 'section_tortuosity', 'section_volumes', 'segment_lengths',\n",
    "                        'segment_meander_angles', 'segment_midpoints', 'segment_radial_distances', 'segment_radii',\n",
    "                        'segment_taper_rates', 'segment_volumes', 'terminal_path_lengths_per_neurite', 'total_length',\n",
    "                        'total_length_per_neurite']\n",
    "\n",
    "    display_feature_table(neuron, 'basal_dendrite', neurite_features)\n",
    "else:\n",
    "    print('This morphology has no basal dendrites.')"
   ]
  },
  {
   "cell_type": "code",
   "execution_count": null,
   "metadata": {},
   "outputs": [],
   "source": [
    "# create histogram for a particular feature\n",
    "feature = 'segment_lengths'\n",
    "if has_basal_dendrite(neuron):\n",
    "    histogram(neuron, feature, 'basal_dendrite')"
   ]
  },
  {
   "cell_type": "markdown",
   "metadata": {},
   "source": [
    "### <a name=axon></a>Axon\n",
    "\n",
    "You can find a list of all available features on http://neurom.readthedocs.io/en/latest/_neurom_build/neurom.get.html#neurom.get.\n",
    "\n",
    "The next cells will give some details about the axon (if present)"
   ]
  },
  {
   "cell_type": "code",
   "execution_count": null,
   "metadata": {},
   "outputs": [],
   "source": [
    "def has_axon(neuron):\n",
    "    return extract_feature(neuron, 'number_of_neurites', 'axon')[0] > 0"
   ]
  },
  {
   "cell_type": "code",
   "execution_count": null,
   "metadata": {},
   "outputs": [],
   "source": [
    "# component visualization\n",
    "fig, ax = visualize_neurites(neuron, 'axon')"
   ]
  },
  {
   "cell_type": "code",
   "execution_count": null,
   "metadata": {},
   "outputs": [],
   "source": [
    "# component analysis\n",
    "if has_axon(neuron):\n",
    "    neurite_features = ['neurite_lengths', 'neurite_volume_density', 'neurite_volumes', 'number_of_neurites',\n",
    "                        'number_of_sections', 'number_of_sections_per_neurite', 'number_of_segments', \n",
    "                        'number_of_terminations', 'principal_direction_extents', 'section_areas', \n",
    "                        'section_lengths', 'section_path_distances', 'section_radial_distances', \n",
    "                        'section_term_lengths', 'section_tortuosity', 'section_volumes', 'segment_lengths', \n",
    "                        'segment_meander_angles', 'segment_midpoints', 'segment_radial_distances', 'segment_radii', \n",
    "                        'segment_volumes', 'terminal_path_lengths_per_neurite', 'total_length', \n",
    "                        'total_length_per_neurite']\n",
    "\n",
    "    display_feature_table(neuron, 'axon', neurite_features)\n",
    "else:\n",
    "    print('This morphology has no axon.')"
   ]
  },
  {
   "cell_type": "code",
   "execution_count": null,
   "metadata": {},
   "outputs": [],
   "source": [
    "# create histogram for a particular feature\n",
    "feature = 'segment_lengths'\n",
    "if has_axon(neuron):\n",
    "    histogram(neuron, feature, 'axon')"
   ]
  },
  {
   "cell_type": "markdown",
   "metadata": {},
   "source": [
    "### <a name=apical_dendrite></a>Apical dendrite\n",
    "\n",
    "You can find a list of all available features on http://neurom.readthedocs.io/en/latest/_neurom_build/neurom.get.html#neurom.get .\n",
    "\n",
    "The next cells will give some details about the apical dendrites (if present)."
   ]
  },
  {
   "cell_type": "code",
   "execution_count": null,
   "metadata": {},
   "outputs": [],
   "source": [
    "def has_apical_dendrite(neuron):\n",
    "    return extract_feature(neuron, 'number_of_neurites', 'apical_dendrite')[0] > 0"
   ]
  },
  {
   "cell_type": "code",
   "execution_count": null,
   "metadata": {},
   "outputs": [],
   "source": [
    "# component visualization\n",
    "fig, ax = visualize_neurites(neuron, 'apical_dendrite')"
   ]
  },
  {
   "cell_type": "code",
   "execution_count": null,
   "metadata": {},
   "outputs": [],
   "source": [
    "# component analysis\n",
    "if has_apical_dendrite(neuron):\n",
    "    neurite_features = ['local_bifurcation_angles', 'neurite_lengths', 'neurite_volume_density', 'neurite_volumes',\n",
    "                        'number_of_bifurcations', 'number_of_forking_points', 'number_of_neurites', 'number_of_sections',\n",
    "                        'number_of_sections_per_neurite', 'number_of_segments', 'number_of_terminations', 'partition',\n",
    "                        'partition_asymmetry', 'principal_direction_extents', 'remote_bifurcation_angles', 'section_areas',\n",
    "                        'section_bif_branch_orders', 'section_bif_lengths', 'section_branch_orders', 'section_lengths',\n",
    "                        'section_path_distances', 'section_radial_distances', 'section_term_branch_orders', \n",
    "                        'section_term_lengths', 'section_tortuosity', 'section_volumes', 'segment_lengths',\n",
    "                        'segment_meander_angles', 'segment_midpoints', 'segment_radial_distances', 'segment_radii',\n",
    "                        'segment_taper_rates', 'segment_volumes', 'terminal_path_lengths_per_neurite', 'total_length',\n",
    "                        'total_length_per_neurite']\n",
    "\n",
    "    display_feature_table(neuron, 'apical_dendrite', neurite_features)\n",
    "else:\n",
    "    print('This morphology has no apical dendrite.')"
   ]
  },
  {
   "cell_type": "code",
   "execution_count": null,
   "metadata": {},
   "outputs": [],
   "source": [
    "# create histogram for a particular feature\n",
    "feature = 'segment_lengths'\n",
    "if has_apical_dendrite(neuron):\n",
    "    histogram(neuron, feature, 'apical_dendrite')"
   ]
  },
  {
   "cell_type": "code",
   "execution_count": null,
   "metadata": {},
   "outputs": [],
   "source": []
  }
 ],
 "metadata": {
  "kernelspec": {
   "display_name": "Python 3",
   "language": "python",
   "name": "python3"
  },
  "language_info": {
   "codemirror_mode": {
    "name": "ipython",
    "version": 3
   },
   "file_extension": ".py",
   "mimetype": "text/x-python",
   "name": "python",
   "nbconvert_exporter": "python",
   "pygments_lexer": "ipython3",
   "version": "3.6.9"
  }
 },
 "nbformat": 4,
 "nbformat_minor": 4
}
